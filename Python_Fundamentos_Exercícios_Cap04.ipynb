{
  "nbformat": 4,
  "nbformat_minor": 0,
  "metadata": {
    "colab": {
      "name": "Python Fundamentos Exercícios Cap04.ipynb",
      "provenance": [],
      "collapsed_sections": [],
      "authorship_tag": "ABX9TyNvZGnv8A8rUFZWXAPgr+4K",
      "include_colab_link": true
    },
    "kernelspec": {
      "name": "python3",
      "display_name": "Python 3"
    },
    "language_info": {
      "name": "python"
    }
  },
  "cells": [
    {
      "cell_type": "markdown",
      "metadata": {
        "id": "view-in-github",
        "colab_type": "text"
      },
      "source": [
        "<a href=\"https://colab.research.google.com/github/edusigarini/PythonFundamentos/blob/main/Python_Fundamentos_Exerc%C3%ADcios_Cap04.ipynb\" target=\"_parent\"><img src=\"https://colab.research.google.com/assets/colab-badge.svg\" alt=\"Open In Colab\"/></a>"
      ]
    },
    {
      "cell_type": "code",
      "execution_count": 7,
      "metadata": {
        "colab": {
          "base_uri": "https://localhost:8080/"
        },
        "id": "6J53C5yThr97",
        "outputId": "66f497ac-1abc-4c79-87e6-4b89495977e4"
      },
      "outputs": [
        {
          "output_type": "stream",
          "name": "stdout",
          "text": [
            "[125, 493039, 778688000]\n"
          ]
        }
      ],
      "source": [
        "# Exercício 1 - Crie uma lista de 3 elementos e calcule a terceira potência de cada elemento.\n",
        "lista = [5,79,920]\n",
        "\n",
        "lst = [x**3 for x in lista]\n",
        "print(lst)"
      ]
    },
    {
      "cell_type": "code",
      "source": [
        "# Exercício 2 - Reescreva o código abaixo, usando a função map(). O resultado final deve ser o mesmo!\n",
        "palavras = 'A Data Science Academy oferce os melhores cursos de análise de dados do Brasil'.split()\n",
        "resultado = map(lambda w: [w.upper(), w.lower(), len(w)], palavras)\n",
        "for i in resultado:\n",
        "    print (i)"
      ],
      "metadata": {
        "colab": {
          "base_uri": "https://localhost:8080/"
        },
        "id": "7Xe4MHQyi6UI",
        "outputId": "2d649b70-98d9-4632-8775-aedd5d4bca02"
      },
      "execution_count": 5,
      "outputs": [
        {
          "output_type": "stream",
          "name": "stdout",
          "text": [
            "['A', 'a', 1]\n",
            "['DATA', 'data', 4]\n",
            "['SCIENCE', 'science', 7]\n",
            "['ACADEMY', 'academy', 7]\n",
            "['OFERCE', 'oferce', 6]\n",
            "['OS', 'os', 2]\n",
            "['MELHORES', 'melhores', 8]\n",
            "['CURSOS', 'cursos', 6]\n",
            "['DE', 'de', 2]\n",
            "['ANÁLISE', 'análise', 7]\n",
            "['DE', 'de', 2]\n",
            "['DADOS', 'dados', 5]\n",
            "['DO', 'do', 2]\n",
            "['BRASIL', 'brasil', 6]\n"
          ]
        }
      ]
    },
    {
      "cell_type": "code",
      "source": [
        "# Exercício 3 - Calcule a matriz transposta da matriz abaixo.\n",
        "\n",
        "matrix = [[1, 2],[3,4],[5,6],[7,8]]\n",
        "transpose = [[row[i] for row in matrix] for i in range(2)]\n",
        "print(transpose)\n"
      ],
      "metadata": {
        "colab": {
          "base_uri": "https://localhost:8080/"
        },
        "id": "dTRSDkfgkcFo",
        "outputId": "237034af-dd8e-4abc-a089-fa26f6ab6426"
      },
      "execution_count": 6,
      "outputs": [
        {
          "output_type": "stream",
          "name": "stdout",
          "text": [
            "[[1, 3, 5, 7], [2, 4, 6, 8]]\n"
          ]
        }
      ]
    },
    {
      "cell_type": "code",
      "source": [
        "# Exercício 4 - Crie duas funções, uma para elevar um número ao quadrado e outra para elevar ao cubo. \n",
        "# Aplique as duas funções aos elementos da lista abaixo. \n",
        "# Obs: as duas funções devem ser aplicadas simultaneamente.\n",
        "lista = [0, 1, 2, 3, 4]\n",
        "elevacao = [i**2 for i in [i**3 for i in lista]]\n",
        "print(elevacao)\n",
        "\n",
        "def square(x):\n",
        "  return (x**2)\n",
        "\n",
        "def cube(x):\n",
        "  return (x**3)\n",
        "\n",
        "operacao = [square, cube]\n",
        "for i in lista:\n",
        "  valor = map(lambda x: x(i),operacao)\n",
        "  print(list(valor))"
      ],
      "metadata": {
        "colab": {
          "base_uri": "https://localhost:8080/"
        },
        "id": "VHAmEDvLkztV",
        "outputId": "56ddb07c-6580-4089-c8ed-2839902691bc"
      },
      "execution_count": 10,
      "outputs": [
        {
          "output_type": "stream",
          "name": "stdout",
          "text": [
            "[0, 1, 64, 729, 4096]\n",
            "[0, 0]\n",
            "[1, 1]\n",
            "[4, 8]\n",
            "[9, 27]\n",
            "[16, 64]\n"
          ]
        }
      ]
    },
    {
      "cell_type": "code",
      "source": [
        "# Exercício 5 - Abaixo você encontra duas listas. Faça com que cada elemento da listaA seja elevado \n",
        "# ao elemento correspondente na listaB.\n",
        "listaA = [2, 3, 4]\n",
        "listaB = [10, 11, 12]\n",
        "list(map(pow, listaA, listaB))\n",
        "#utilizando a função pow()"
      ],
      "metadata": {
        "colab": {
          "base_uri": "https://localhost:8080/"
        },
        "id": "IL7OEmral87U",
        "outputId": "ce73abb1-09a9-4d33-bbe7-3bb8d32e929d"
      },
      "execution_count": 11,
      "outputs": [
        {
          "output_type": "execute_result",
          "data": {
            "text/plain": [
              "[1024, 177147, 16777216]"
            ]
          },
          "metadata": {},
          "execution_count": 11
        }
      ]
    },
    {
      "cell_type": "code",
      "source": [
        "# Exercício 6 - Considerando o range de valores abaixo, use a função filter() para retornar apenas os valores negativos.\n",
        "range(-5, 5)\n",
        "\n",
        "list(filter(lambda x: x < 0, range(-5,5)))"
      ],
      "metadata": {
        "colab": {
          "base_uri": "https://localhost:8080/"
        },
        "id": "U7z1q7K-njEZ",
        "outputId": "380b1cab-4d45-49a2-82b5-10b21e2d67d9"
      },
      "execution_count": 12,
      "outputs": [
        {
          "output_type": "execute_result",
          "data": {
            "text/plain": [
              "[-5, -4, -3, -2, -1]"
            ]
          },
          "metadata": {},
          "execution_count": 12
        }
      ]
    },
    {
      "cell_type": "code",
      "source": [
        "#pode ser feita com a função lambda ou utilizando uma função normal\n",
        "def numNegativo(num):\n",
        "    if num  < 0:\n",
        "        return True\n",
        "    else:\n",
        "        return False\n",
        "\n",
        "list(filter(numNegativo, range(-5,5)))"
      ],
      "metadata": {
        "colab": {
          "base_uri": "https://localhost:8080/"
        },
        "id": "qbIpfY6mn86D",
        "outputId": "2b3a8063-d032-4b99-b708-2c427b697b59"
      },
      "execution_count": 16,
      "outputs": [
        {
          "output_type": "execute_result",
          "data": {
            "text/plain": [
              "[-5, -4, -3, -2, -1]"
            ]
          },
          "metadata": {},
          "execution_count": 16
        }
      ]
    },
    {
      "cell_type": "code",
      "source": [
        "# Exercício 7 - Usando a função filter(), encontre os valores que são comuns às duas listas abaixo.\n",
        "a = [1,2,3,5,7,9]\n",
        "b = [2,3,5,6,7,8]\n",
        "\n",
        "print(list(filter(lambda x: x in a,b)))\n"
      ],
      "metadata": {
        "colab": {
          "base_uri": "https://localhost:8080/"
        },
        "id": "c-KaOQpsoTJj",
        "outputId": "348fa705-e216-49b0-b77c-f01941fdde35"
      },
      "execution_count": 19,
      "outputs": [
        {
          "output_type": "stream",
          "name": "stdout",
          "text": [
            "[2, 3, 5, 7]\n"
          ]
        }
      ]
    },
    {
      "cell_type": "code",
      "source": [
        "# Exercício 8 - Considere o código abaixo. Obtenha o mesmo resultado usando o pacote time. \n",
        "# Não conhece o pacote time? Pesquise!\n",
        "import datetime\n",
        "print (datetime.datetime.now().strftime(\"%d/%m/%Y %H:%M\"))\n",
        "\n",
        "import time\n",
        "print (time.strftime(\"%d/%m/%Y %H:%M\"))"
      ],
      "metadata": {
        "colab": {
          "base_uri": "https://localhost:8080/"
        },
        "id": "F3sp_95ApAWE",
        "outputId": "1deafc9f-e72d-4af1-c237-196fa26ce766"
      },
      "execution_count": 29,
      "outputs": [
        {
          "output_type": "stream",
          "name": "stdout",
          "text": [
            "20/07/2022 22:29\n",
            "20/07/2022 22:29\n"
          ]
        }
      ]
    },
    {
      "cell_type": "code",
      "source": [
        "# Exercício 9 - Considere os dois dicionários abaixo. \n",
        "# Crie um terceiro dicionário com as chaves do dicionário 1 e os valores do dicionário 2.\n",
        "dict1 = {'a':1,'b':2}\n",
        "dict2 = {'c':4,'d':5}\n",
        "\n",
        "def novoDict(d1,d2):\n",
        "  dicTemp = {}\n",
        "\n",
        "  for d1key, d2val in zip(dict1,dict2.values()):\n",
        "    dicTemp[d1key] = d2val\n",
        "  \n",
        "  return dicTemp\n",
        "\n",
        "dict3 = novoDict(dict1, dict2)\n",
        "print(dict3)"
      ],
      "metadata": {
        "colab": {
          "base_uri": "https://localhost:8080/"
        },
        "id": "go2VdsuIpum6",
        "outputId": "91e84aec-c580-40e1-9850-b775823219a9"
      },
      "execution_count": 28,
      "outputs": [
        {
          "output_type": "stream",
          "name": "stdout",
          "text": [
            "{'a': 4, 'b': 5}\n"
          ]
        }
      ]
    },
    {
      "cell_type": "code",
      "source": [
        "# Exercício 10 - Considere a lista abaixo e retorne apenas os elementos cujo índice for maior que 5.\n",
        "lista = ['a', 'b', 'c', 'd', 'e', 'f', 'g', 'h']\n",
        "for indice, valor in enumerate(lista):\n",
        "  if indice >= 5:\n",
        "    print(indice,valor)"
      ],
      "metadata": {
        "colab": {
          "base_uri": "https://localhost:8080/"
        },
        "id": "ESUKgic6p8nl",
        "outputId": "680cfb4c-0b2a-484d-d3fe-804cc8bbfae4"
      },
      "execution_count": 26,
      "outputs": [
        {
          "output_type": "stream",
          "name": "stdout",
          "text": [
            "5 f\n",
            "6 g\n",
            "7 h\n"
          ]
        }
      ]
    }
  ]
}