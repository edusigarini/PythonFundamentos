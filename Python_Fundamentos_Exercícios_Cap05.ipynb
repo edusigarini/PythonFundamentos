{
  "nbformat": 4,
  "nbformat_minor": 0,
  "metadata": {
    "colab": {
      "name": "Python Fundamentos Exercícios Cap05.ipynb",
      "provenance": [],
      "authorship_tag": "ABX9TyNQDUK6rASu3xys5YyEGm/r",
      "include_colab_link": true
    },
    "kernelspec": {
      "name": "python3",
      "display_name": "Python 3"
    },
    "language_info": {
      "name": "python"
    }
  },
  "cells": [
    {
      "cell_type": "markdown",
      "metadata": {
        "id": "view-in-github",
        "colab_type": "text"
      },
      "source": [
        "<a href=\"https://colab.research.google.com/github/edusigarini/PythonFundamentos/blob/main/Python_Fundamentos_Exerc%C3%ADcios_Cap05.ipynb\" target=\"_parent\"><img src=\"https://colab.research.google.com/assets/colab-badge.svg\" alt=\"Open In Colab\"/></a>"
      ]
    },
    {
      "cell_type": "code",
      "execution_count": 1,
      "metadata": {
        "id": "Wqz3o0qxISAA"
      },
      "outputs": [],
      "source": [
        "# Exercício 1 - Crie um objeto a partir da classe abaixo, chamado roc1, passando 2 parâmetros e depois faça uma chamada\n",
        "# aos atributos e métodos\n",
        "from math import sqrt\n",
        "\n",
        "class Rocket():\n",
        "     \n",
        "    def __init__(self, x=0, y=0):\n",
        "        self.x = x\n",
        "        self.y = y\n",
        "        \n",
        "    def move_rocket(self, x_increment=0, y_increment=1):\n",
        "        self.x += x_increment\n",
        "        self.y += y_increment\n",
        "        \n",
        "    def print_rocket(self):\n",
        "        print(self.x, self.y)"
      ]
    },
    {
      "cell_type": "code",
      "source": [
        "roc1 = Rocket(10,25)\n",
        "roc1.x\n",
        "roc1.y\n",
        "roc1.print_rocket()\n",
        "roc1.move_rocket(75,30)\n",
        "roc1.print_rocket()"
      ],
      "metadata": {
        "colab": {
          "base_uri": "https://localhost:8080/"
        },
        "id": "f7bmVt47M5Xw",
        "outputId": "89bb76f6-e6e1-41b3-94a1-b0dc57f71382"
      },
      "execution_count": 5,
      "outputs": [
        {
          "output_type": "stream",
          "name": "stdout",
          "text": [
            "10 25\n",
            "85 55\n"
          ]
        }
      ]
    },
    {
      "cell_type": "code",
      "source": [
        "# Exercício 2 - Crie uma classe chamada Pessoa() com os atributos: nome, cidade, telefone e e-mail. Use pelo menos 2\n",
        "# métodos especiais na sua classe. Crie um objeto da sua classe e faça uma chamada a pelo menos um dos seus métodos\n",
        "# especiais.\n",
        "\n",
        "class Pessoa():\n",
        "\n",
        "  def __init__(self, nome, cidade, telefone, email):\n",
        "    self.nome = nome\n",
        "    self.cidade = cidade\n",
        "    self.telefone = telefone\n",
        "    self.email = email\n",
        "  \n",
        "  def __str__(self):\n",
        "      return \"O usuário \" + self.nome + \" residente da cidade \" + self.cidade + \" numero de telefone: \" + self.telefone"
      ],
      "metadata": {
        "id": "s1SGjm_TNB7Y"
      },
      "execution_count": 23,
      "outputs": []
    },
    {
      "cell_type": "code",
      "source": [
        "cadastro = Pessoa(\"João\", \"BSB\", \"9999-9999\", \"email@email.com\")\n",
        "str(cadastro)"
      ],
      "metadata": {
        "colab": {
          "base_uri": "https://localhost:8080/",
          "height": 35
        },
        "id": "wmBKnX1WN6Q8",
        "outputId": "4050bf85-95ba-4e3d-f9d4-9728fc9d190a"
      },
      "execution_count": 24,
      "outputs": [
        {
          "output_type": "execute_result",
          "data": {
            "text/plain": [
              "'O usuário João residente da cidade BSB numero de telefone: 9999-9999'"
            ],
            "application/vnd.google.colaboratory.intrinsic+json": {
              "type": "string"
            }
          },
          "metadata": {},
          "execution_count": 24
        }
      ]
    },
    {
      "cell_type": "code",
      "source": [
        "# Exercício 3 - Crie a classe Smartphone com 2 atributos, tamanho e interface e crie a classe MP3Player com os \n",
        "# atributos capacidade. A classe MP3player deve herdar os atributos da classe Smartphone.\n",
        "\n",
        "class Smartphone():\n",
        "\n",
        "  def __init__(self, tamanho, interface):\n",
        "    self.tamanho = tamanho\n",
        "    self.interface = interface\n",
        "\n",
        "class MP3player(Smartphone):\n",
        "\n",
        "  def __init__(self, tamanho, interface, capacidade):\n",
        "    Smartphone.__init__(self, tamanho, interface)\n",
        "    self.capacidade = capacidade\n",
        "\n",
        "  def imprime(self):\n",
        "    print(\"Informações do Objeto criado: %s %s %s\" %(self.tamanho, self.interface, self.capacidade))\n",
        "\n",
        "dispositivo = MP3player(\"Pequeno\", \"Led\", '128GB')\n",
        "dispositivo.imprime()"
      ],
      "metadata": {
        "colab": {
          "base_uri": "https://localhost:8080/"
        },
        "id": "VWRN1NyaOGLt",
        "outputId": "eb61de77-1e03-44c4-e521-1af550fcabef"
      },
      "execution_count": 26,
      "outputs": [
        {
          "output_type": "stream",
          "name": "stdout",
          "text": [
            "Informações do Objeto criado: Pequeno Led 128GB\n"
          ]
        }
      ]
    },
    {
      "cell_type": "code",
      "source": [
        ""
      ],
      "metadata": {
        "id": "qtfqngtLVdP8"
      },
      "execution_count": null,
      "outputs": []
    }
  ]
}